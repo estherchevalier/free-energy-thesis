{
 "cells": [
  {
   "cell_type": "code",
   "execution_count": 2,
   "metadata": {},
   "outputs": [],
   "source": [
    "import numpy as np\n",
    "import matplotlib.pyplot as plt\n",
    "import pandas as pd\n",
    "import itertools\n",
    "\n",
    "import warnings\n",
    "warnings.filterwarnings('ignore')"
   ]
  },
  {
   "cell_type": "markdown",
   "metadata": {},
   "source": [
    "## Tutorial on Active Inference\n",
    "Based on https://medium.com/@solopchuk/tutorial-on-active-inference-30edcf50f5dc"
   ]
  },
  {
   "cell_type": "markdown",
   "metadata": {},
   "source": [
    "### Helper functions"
   ]
  },
  {
   "cell_type": "code",
   "execution_count": 14,
   "metadata": {},
   "outputs": [],
   "source": [
    "def softmax(x):\n",
    "    return np.exp(x) / sum(np.exp(x))\n",
    "\n",
    "def KL(a, b):\n",
    "    # Kullback-Leibler divergence\n",
    "    # From https://datascience.stackexchange.com/questions/9262/calculating-kl-divergence-in-python\n",
    "    a = np.asarray(a, dtype=np.float)\n",
    "    b = np.asarray(b, dtype=np.float)\n",
    "\n",
    "    return np.sum(np.where(a != 0, a * np.log(a / b), 0))\n",
    "\n",
    "def H(p):\n",
    "    # Ambiguity\n",
    "    p = np.array(p)\n",
    "    H = np.sum(np.where(p != 0, p * np.log(p), 0))\n",
    "\n",
    "    return H\n",
    "\n",
    "def mutual_information(p, a, b):\n",
    "    pass"
   ]
  },
  {
   "cell_type": "code",
   "execution_count": 15,
   "metadata": {},
   "outputs": [
    {
     "data": {
      "text/plain": [
       "10.289216058526625"
      ]
     },
     "execution_count": 15,
     "metadata": {},
     "output_type": "execute_result"
    }
   ],
   "source": []
  },
  {
   "cell_type": "code",
   "execution_count": null,
   "metadata": {},
   "outputs": [],
   "source": [
    "######## Generative model #############################\n",
    "\n",
    "# The generative model p(o, s)\n",
    "\n",
    "# Index 0: probability of EITHER observation \"hungry\"\n",
    "#           OR true hidden state \"hungry\"\n",
    "#           OR action \"do nothing\"\n",
    "\n",
    "# Index 1: probability of EITHER observation \"full\"\n",
    "#           OR true hidden state \"full\"\n",
    "#           OR action \"eat\"\n",
    "\n",
    "# Prior preferences on observations\n",
    "# p(o)\n",
    "\n",
    "p_obs = [0.99, 0.01]\n",
    "\n",
    "\n",
    "# Prior belief on hidden states\n",
    "# p(s)\n",
    "# Not used\n",
    "\n",
    "p_states = [0.5, 0.5]\n",
    "\n",
    "# Likelihood p(observation | state)\n",
    "# A[y, x]\n",
    "# Y-axis: state\n",
    "# X-axis: observation\n",
    "\n",
    "A = np.array([[0.9, 0.1], [0.3, 0.7]])\n",
    "#A = np.array([[1, 0], [0, 1]])\n",
    "\n",
    "# Transition probability p(state_t | state_t-1, action)\n",
    "# B[x, y, z]\n",
    "# X-axis: Current state (at t)\n",
    "# Y-axis: action\n",
    "# Z-axis: Next state (at t+1)\n",
    "\n",
    "B = np.array([[[0.8, 0.2], [0.3, 0.7]],[[0.6, 0.4], [0.15, 0.85]]])\n",
    "#B = np.array([[[0.9999, 0.0001], [0.0001, 0.9999]],[[0.9999, 0.0001], [0.0001, 0.9999]]])"
   ]
  },
  {
   "cell_type": "code",
   "execution_count": 3,
   "metadata": {},
   "outputs": [],
   "source": [
    "def KL(a, b):\n",
    "    # Kullback-Leibler divergence\n",
    "    # From https://datascience.stackexchange.com/questions/9262/calculating-kl-divergence-in-python\n",
    "    a = np.asarray(a, dtype=np.float)\n",
    "    b = np.asarray(b, dtype=np.float)\n",
    "\n",
    "    return np.sum(np.where(a != 0, a * np.log(a / b), 0))"
   ]
  },
  {
   "cell_type": "code",
   "execution_count": 33,
   "metadata": {},
   "outputs": [],
   "source": [
    "p = np.array([0.6, 0.4])\n",
    "p_obs = np.broadcast_to(p, (3, 2))\n",
    "arr1 = np.array([0, 1])\n",
    "arr2 = np.array([[0, 1], [0.9, 0.1]])\n",
    "arr3 = np.array([[0, 1], [0.9, 0.1], [0.65, 0.35]])"
   ]
  },
  {
   "cell_type": "code",
   "execution_count": 39,
   "metadata": {},
   "outputs": [
    {
     "data": {
      "text/plain": [
       "0.9162907318741551"
      ]
     },
     "execution_count": 39,
     "metadata": {},
     "output_type": "execute_result"
    }
   ],
   "source": [
    "KL(arr1, p_obs[0])"
   ]
  },
  {
   "cell_type": "code",
   "execution_count": 40,
   "metadata": {},
   "outputs": [
    {
     "data": {
      "text/plain": [
       "1.142579893059514"
      ]
     },
     "execution_count": 40,
     "metadata": {},
     "output_type": "execute_result"
    }
   ],
   "source": [
    "KL(arr2, p_obs[:2])"
   ]
  },
  {
   "cell_type": "code",
   "execution_count": 41,
   "metadata": {},
   "outputs": [
    {
     "data": {
      "text/plain": [
       "1.1478716656287298"
      ]
     },
     "execution_count": 41,
     "metadata": {},
     "output_type": "execute_result"
    }
   ],
   "source": [
    "KL(arr3, p_obs)"
   ]
  },
  {
   "cell_type": "code",
   "execution_count": 26,
   "metadata": {},
   "outputs": [],
   "source": [
    "a = np.arange(6).reshape(3,2)\n",
    "b = np.arange(4).reshape(2, 2)"
   ]
  },
  {
   "cell_type": "code",
   "execution_count": 42,
   "metadata": {},
   "outputs": [
    {
     "data": {
      "text/plain": [
       "array([0.6, 0.4])"
      ]
     },
     "execution_count": 42,
     "metadata": {},
     "output_type": "execute_result"
    }
   ],
   "source": [
    "p_obs[0]"
   ]
  },
  {
   "cell_type": "code",
   "execution_count": 28,
   "metadata": {},
   "outputs": [
    {
     "data": {
      "text/plain": [
       "array([10, 19])"
      ]
     },
     "execution_count": 28,
     "metadata": {},
     "output_type": "execute_result"
    }
   ],
   "source": [
    "a[-1] @ b"
   ]
  },
  {
   "cell_type": "code",
   "execution_count": 38,
   "metadata": {},
   "outputs": [
    {
     "data": {
      "text/plain": [
       "array([[0.6, 0.4],\n",
       "       [0.6, 0.4]])"
      ]
     },
     "execution_count": 38,
     "metadata": {},
     "output_type": "execute_result"
    }
   ],
   "source": [
    "p_obs[:2]"
   ]
  },
  {
   "cell_type": "code",
   "execution_count": null,
   "metadata": {},
   "outputs": [],
   "source": [
    "p_obs = "
   ]
  }
 ],
 "metadata": {
  "kernelspec": {
   "display_name": "Python 3",
   "language": "python",
   "name": "python3"
  },
  "language_info": {
   "codemirror_mode": {
    "name": "ipython",
    "version": 3
   },
   "file_extension": ".py",
   "mimetype": "text/x-python",
   "name": "python",
   "nbconvert_exporter": "python",
   "pygments_lexer": "ipython3",
   "version": "3.7.3"
  }
 },
 "nbformat": 4,
 "nbformat_minor": 2
}
