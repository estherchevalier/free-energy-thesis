{
 "cells": [
  {
   "cell_type": "code",
   "execution_count": 1,
   "id": "infectious-seven",
   "metadata": {},
   "outputs": [
    {
     "name": "stderr",
     "output_type": "stream",
     "text": [
      "In /home/esther/miniconda3/envs/ann/lib/python3.7/site-packages/matplotlib/mpl-data/stylelib/_classic_test.mplstyle: \n",
      "The text.latex.preview rcparam was deprecated in Matplotlib 3.3 and will be removed two minor releases later.\n",
      "In /home/esther/miniconda3/envs/ann/lib/python3.7/site-packages/matplotlib/mpl-data/stylelib/_classic_test.mplstyle: \n",
      "The mathtext.fallback_to_cm rcparam was deprecated in Matplotlib 3.3 and will be removed two minor releases later.\n",
      "In /home/esther/miniconda3/envs/ann/lib/python3.7/site-packages/matplotlib/mpl-data/stylelib/_classic_test.mplstyle: Support for setting the 'mathtext.fallback_to_cm' rcParam is deprecated since 3.3 and will be removed two minor releases later; use 'mathtext.fallback : 'cm' instead.\n",
      "In /home/esther/miniconda3/envs/ann/lib/python3.7/site-packages/matplotlib/mpl-data/stylelib/_classic_test.mplstyle: \n",
      "The validate_bool_maybe_none function was deprecated in Matplotlib 3.3 and will be removed two minor releases later.\n",
      "In /home/esther/miniconda3/envs/ann/lib/python3.7/site-packages/matplotlib/mpl-data/stylelib/_classic_test.mplstyle: \n",
      "The savefig.jpeg_quality rcparam was deprecated in Matplotlib 3.3 and will be removed two minor releases later.\n",
      "In /home/esther/miniconda3/envs/ann/lib/python3.7/site-packages/matplotlib/mpl-data/stylelib/_classic_test.mplstyle: \n",
      "The keymap.all_axes rcparam was deprecated in Matplotlib 3.3 and will be removed two minor releases later.\n",
      "In /home/esther/miniconda3/envs/ann/lib/python3.7/site-packages/matplotlib/mpl-data/stylelib/_classic_test.mplstyle: \n",
      "The animation.avconv_path rcparam was deprecated in Matplotlib 3.3 and will be removed two minor releases later.\n",
      "In /home/esther/miniconda3/envs/ann/lib/python3.7/site-packages/matplotlib/mpl-data/stylelib/_classic_test.mplstyle: \n",
      "The animation.avconv_args rcparam was deprecated in Matplotlib 3.3 and will be removed two minor releases later.\n"
     ]
    }
   ],
   "source": [
    "import numpy as np\n",
    "%matplotlib inline"
   ]
  },
  {
   "cell_type": "code",
   "execution_count": 2,
   "id": "chief-reward",
   "metadata": {},
   "outputs": [],
   "source": [
    "import matplotlib.pyplot as plt"
   ]
  },
  {
   "cell_type": "code",
   "execution_count": 85,
   "id": "discrete-california",
   "metadata": {},
   "outputs": [],
   "source": [
    "## x: Current action\n",
    "## y: State at time t\n",
    "## z: State at time t+1\n",
    "\n",
    "true_B = np.array([[[1, 0, 0, 0],\n",
    "                    [0, 1, 0, 0],\n",
    "                    [0, 0, 1, 0],\n",
    "                    [1, 0, 0, 0]],\n",
    "\n",
    "                    [[0,1, 0, 0],\n",
    "                    [0, 1, 0, 0],\n",
    "                    [0, 0, 1, 0],\n",
    "                    [0, 1, 0, 0]],\n",
    "\n",
    "                    [[0, 0, 1, 0],\n",
    "                    [0, 1, 0, 0],\n",
    "                    [0, 0, 1, 0],\n",
    "                    [0, 0, 1, 0]],\n",
    "\n",
    "                    [[0, 0, 0, 1],\n",
    "                    [0, 1, 0, 0],\n",
    "                    [0, 0, 1, 0],\n",
    "                    [0, 0, 0, 1]]])"
   ]
  },
  {
   "cell_type": "code",
   "execution_count": 86,
   "id": "central-tumor",
   "metadata": {},
   "outputs": [],
   "source": [
    "B = np.kron(np.identity(2), true_B)"
   ]
  },
  {
   "cell_type": "code",
   "execution_count": 104,
   "id": "better-lindsay",
   "metadata": {},
   "outputs": [],
   "source": [
    "arr = np.array([0,0,0,0,1,0,0,0])"
   ]
  },
  {
   "cell_type": "code",
   "execution_count": 105,
   "id": "detected-directory",
   "metadata": {},
   "outputs": [
    {
     "data": {
      "text/plain": [
       "array([0., 0., 0., 0., 0., 0., 0., 1.])"
      ]
     },
     "execution_count": 105,
     "metadata": {},
     "output_type": "execute_result"
    }
   ],
   "source": [
    "arr @ B[3]"
   ]
  },
  {
   "cell_type": "code",
   "execution_count": 106,
   "id": "related-change",
   "metadata": {},
   "outputs": [],
   "source": [
    "a = np.array([0, 0, 1, 0])"
   ]
  },
  {
   "cell_type": "code",
   "execution_count": 107,
   "id": "mechanical-journalism",
   "metadata": {},
   "outputs": [],
   "source": [
    "p = 0.9\n",
    "q = 1-p\n",
    "\n",
    "A = np.array([[1,0,0,0,0,0,0,0],\n",
    "              [0,p,q,0,0,0,0,0],\n",
    "              [0,p,q,0,0,0,0,0],\n",
    "              [0,0,0,1,0,0,0,0],\n",
    "              [0,0,0,0,1,0,0,0],\n",
    "              [0,0,0,0,0,q,p,0],\n",
    "              [0,0,0,0,0,q,p,0],\n",
    "              [0,0,0,0,0,0,0,1]])"
   ]
  },
  {
   "cell_type": "code",
   "execution_count": 109,
   "id": "armed-grill",
   "metadata": {},
   "outputs": [
    {
     "data": {
      "text/plain": [
       "array([0. , 0. , 0. , 0. , 0. , 0.1, 0.9, 0. ])"
      ]
     },
     "execution_count": 109,
     "metadata": {},
     "output_type": "execute_result"
    }
   ],
   "source": [
    "arr @ B[2] @ A"
   ]
  },
  {
   "cell_type": "code",
   "execution_count": 137,
   "id": "lovely-calculator",
   "metadata": {},
   "outputs": [
    {
     "name": "stdout",
     "output_type": "stream",
     "text": [
      "----------new policy-------------\n",
      "[0.5 0.  0.  0.  0.5 0.  0.  0. ]\n",
      "-------------\n",
      "Action 1\n",
      "Pos: [0.5 0.  0.  0.  0.5 0.  0.  0. ]\n",
      "Expected state [0.  0.5 0.  0.  0.  0.5 0.  0. ]\n",
      "Exp obs [0.   0.45 0.05 0.   0.   0.05 0.45 0.  ]\n",
      "-------------\n",
      "Action 1\n",
      "Pos: [0.   0.45 0.05 0.   0.   0.05 0.45 0.  ]\n",
      "Expected state [0.   0.45 0.05 0.   0.   0.05 0.45 0.  ]\n",
      "Exp obs [0.   0.45 0.05 0.   0.   0.05 0.45 0.  ]\n",
      "----------new policy-------------\n",
      "[0.5 0.  0.  0.  0.5 0.  0.  0. ]\n",
      "-------------\n",
      "Action 3\n",
      "Pos: [0 0 0 1]\n",
      "Expected state [0 0 0 1]\n",
      "Exp obs [0. 0. 0. 1.]\n",
      "-------------\n",
      "Action 1\n",
      "Pos: [0 0 0 1]\n",
      "Expected state [0 1 0 0]\n",
      "Exp obs [0. 1. 0. 0.]\n",
      "----------new policy-------------\n",
      "[0.5 0.  0.  0.  0.5 0.  0.  0. ]\n",
      "-------------\n",
      "Action 3\n",
      "Pos: [0 0 0 1]\n",
      "Expected state [0 0 0 1]\n",
      "Exp obs [0. 0. 0. 1.]\n",
      "-------------\n",
      "Action 2\n",
      "Pos: [0 0 0 1]\n",
      "Expected state [0 0 1 0]\n",
      "Exp obs [0. 0. 1. 0.]\n"
     ]
    }
   ],
   "source": [
    "policies = np.array([[1,1], [3,1], [3,2]])\n",
    "\n",
    "p = 0.9\n",
    "q = 1-p\n",
    "\n",
    "for pol in policies:\n",
    "    \n",
    "    print(\"----------new policy-------------\")\n",
    "    \n",
    "    \n",
    "    hint_visited = False\n",
    "    context = [.5,.5]\n",
    "    \n",
    "    arr = np.array([.5,0,0,0, .5,0,0,0])\n",
    "    print(arr)\n",
    "    \n",
    "    B = np.array([[[1, 0, 0, 0],\n",
    "                    [0, 1, 0, 0],\n",
    "                    [0, 0, 1, 0],\n",
    "                    [1, 0, 0, 0]],\n",
    "\n",
    "                    [[0,1, 0, 0],\n",
    "                    [0, 1, 0, 0],\n",
    "                    [0, 0, 1, 0],\n",
    "                    [0, 1, 0, 0]],\n",
    "\n",
    "                    [[0, 0, 1, 0],\n",
    "                    [0, 1, 0, 0],\n",
    "                    [0, 0, 1, 0],\n",
    "                    [0, 0, 1, 0]],\n",
    "\n",
    "                    [[0, 0, 0, 1],\n",
    "                    [0, 1, 0, 0],\n",
    "                    [0, 0, 1, 0],\n",
    "                    [0, 0, 0, 1]]])\n",
    "            \n",
    "    B = np.kron(context, B)\n",
    "    \n",
    "\n",
    "    A = np.array([[1,0,0,0,0,0,0,0],\n",
    "                  [0,p,q,0,0,0,0,0],\n",
    "                  [0,p,q,0,0,0,0,0],\n",
    "                  [0,0,0,1,0,0,0,0],\n",
    "                  [0,0,0,0,1,0,0,0],\n",
    "                  [0,0,0,0,0,q,p,0],\n",
    "                  [0,0,0,0,0,q,p,0],\n",
    "                  [0,0,0,0,0,0,0,1]])\n",
    "    \n",
    "    A = \n",
    "    \n",
    "    for a in pol:\n",
    "        \n",
    "        print(\"-------------\")\n",
    "        \n",
    "        if a == 3 or hint_visited:\n",
    "            \n",
    "            hint_visited = True\n",
    "            \n",
    "            arr = np.array([0,0,0,1])\n",
    "            \n",
    "            B = np.array([[[1, 0, 0, 0],\n",
    "                            [0, 1, 0, 0],\n",
    "                            [0, 0, 1, 0],\n",
    "                            [1, 0, 0, 0]],\n",
    "\n",
    "                            [[0,1, 0, 0],\n",
    "                            [0, 1, 0, 0],\n",
    "                            [0, 0, 1, 0],\n",
    "                            [0, 1, 0, 0]],\n",
    "\n",
    "                            [[0, 0, 1, 0],\n",
    "                            [0, 1, 0, 0],\n",
    "                            [0, 0, 1, 0],\n",
    "                            [0, 0, 1, 0]],\n",
    "\n",
    "                            [[0, 0, 0, 1],\n",
    "                            [0, 1, 0, 0],\n",
    "                            [0, 0, 1, 0],\n",
    "                            [0, 0, 0, 1]]])\n",
    "\n",
    "            A = np.identity(4)\n",
    "    \n",
    "            \n",
    "        \n",
    "        print(\"Action\", a)\n",
    "        print(\"Pos:\", arr)\n",
    "        print(\"Expected state\", arr @ B[a])\n",
    "        #print(\"Transition:\", B[a])\n",
    "        #print(\"Likelihood\", A)\n",
    "        arr = arr @ B[a] @ A\n",
    "        print(\"Exp obs\", arr)\n",
    "        \n",
    "        \n",
    "    \n",
    "    \n",
    "    "
   ]
  },
  {
   "cell_type": "code",
   "execution_count": 138,
   "id": "confidential-defensive",
   "metadata": {},
   "outputs": [
    {
     "data": {
      "text/plain": [
       "array([[[1, 0, 0, 0, 0, 0, 0, 0],\n",
       "        [0, 1, 0, 0, 0, 0, 0, 0],\n",
       "        [0, 0, 1, 0, 0, 0, 0, 0],\n",
       "        [1, 0, 0, 0, 0, 0, 0, 0],\n",
       "        [0, 0, 0, 0, 1, 0, 0, 0],\n",
       "        [0, 0, 0, 0, 0, 1, 0, 0],\n",
       "        [0, 0, 0, 0, 0, 0, 1, 0],\n",
       "        [0, 0, 0, 0, 1, 0, 0, 0]],\n",
       "\n",
       "       [[0, 1, 0, 0, 0, 0, 0, 0],\n",
       "        [0, 1, 0, 0, 0, 0, 0, 0],\n",
       "        [0, 0, 1, 0, 0, 0, 0, 0],\n",
       "        [0, 1, 0, 0, 0, 0, 0, 0],\n",
       "        [0, 0, 0, 0, 0, 1, 0, 0],\n",
       "        [0, 0, 0, 0, 0, 1, 0, 0],\n",
       "        [0, 0, 0, 0, 0, 0, 1, 0],\n",
       "        [0, 0, 0, 0, 0, 1, 0, 0]],\n",
       "\n",
       "       [[0, 0, 1, 0, 0, 0, 0, 0],\n",
       "        [0, 1, 0, 0, 0, 0, 0, 0],\n",
       "        [0, 0, 1, 0, 0, 0, 0, 0],\n",
       "        [0, 0, 1, 0, 0, 0, 0, 0],\n",
       "        [0, 0, 0, 0, 0, 0, 1, 0],\n",
       "        [0, 0, 0, 0, 0, 1, 0, 0],\n",
       "        [0, 0, 0, 0, 0, 0, 1, 0],\n",
       "        [0, 0, 0, 0, 0, 0, 1, 0]],\n",
       "\n",
       "       [[0, 0, 0, 1, 0, 0, 0, 0],\n",
       "        [0, 1, 0, 0, 0, 0, 0, 0],\n",
       "        [0, 0, 1, 0, 0, 0, 0, 0],\n",
       "        [0, 0, 0, 1, 0, 0, 0, 0],\n",
       "        [0, 0, 0, 0, 0, 0, 0, 1],\n",
       "        [0, 0, 0, 0, 0, 1, 0, 0],\n",
       "        [0, 0, 0, 0, 0, 0, 1, 0],\n",
       "        [0, 0, 0, 0, 0, 0, 0, 1]]])"
      ]
     },
     "execution_count": 138,
     "metadata": {},
     "output_type": "execute_result"
    }
   ],
   "source": [
    "context = np.identity(2)\n",
    "\n",
    "B = np.array([[[1, 0, 0, 0],\n",
    "                [0, 1, 0, 0],\n",
    "                [0, 0, 1, 0],\n",
    "                [1, 0, 0, 0]],\n",
    "\n",
    "                [[0,1, 0, 0],\n",
    "                [0, 1, 0, 0],\n",
    "                [0, 0, 1, 0],\n",
    "                [0, 1, 0, 0]],\n",
    "\n",
    "                [[0, 0, 1, 0],\n",
    "                [0, 1, 0, 0],\n",
    "                [0, 0, 1, 0],\n",
    "                [0, 0, 1, 0]],\n",
    "\n",
    "                [[0, 0, 0, 1],\n",
    "                [0, 1, 0, 0],\n",
    "                [0, 0, 1, 0],\n",
    "                [0, 0, 0, 1]]])\n",
    "            \n",
    "B = np.kron(, B)\n",
    "B"
   ]
  },
  {
   "cell_type": "code",
   "execution_count": 2,
   "id": "julian-craps",
   "metadata": {},
   "outputs": [],
   "source": [
    "def kl(p, q):\n",
    "    \"\"\"Kullback-Leibler divergence D(P || Q) for discrete distributions\n",
    "\n",
    "    Parameters\n",
    "    ----------\n",
    "    p, q : array-like, dtype=float, shape=n\n",
    "    Discrete probability distributions.\n",
    "    \"\"\"\n",
    "\n",
    "    # Remove zeros\n",
    "    p = np.where(p == 0, p + np.exp(-16), p)\n",
    "    q = np.where(q == 0, q + np.exp(-16), q)\n",
    "\n",
    "    return np.sum(p * np.log(p / q))"
   ]
  },
  {
   "cell_type": "code",
   "execution_count": 3,
   "id": "quantitative-inclusion",
   "metadata": {},
   "outputs": [],
   "source": [
    "def softmax(x, T=1):\n",
    "    \"\"\"\n",
    "    x: (nd-array)   elements to\n",
    "    T: (int)        Temperature\n",
    "    \"\"\"\n",
    "    x = np.array(x)\n",
    "\n",
    "    if x.ndim == 1:\n",
    "        return np.exp(x/T) / np.sum(np.exp(x/T))\n",
    "    else:\n",
    "        return np.exp(x/T) / np.sum(np.exp(x/T), axis=1)[:, None]"
   ]
  },
  {
   "cell_type": "code",
   "execution_count": 7,
   "id": "becoming-scoop",
   "metadata": {},
   "outputs": [
    {
     "name": "stdout",
     "output_type": "stream",
     "text": [
      "14.778271395890211\n"
     ]
    }
   ],
   "source": [
    "p_obs = np.array([1, 0])\n",
    "s = np.array([[0.3, .7], [.7,.3]])\n",
    "#s = np.array([[0,.9,0,0],[0,.1,0,0]])\n",
    "\n",
    "print(kl(s, p_obs))"
   ]
  },
  {
   "cell_type": "code",
   "execution_count": 4,
   "id": "representative-remainder",
   "metadata": {},
   "outputs": [],
   "source": [
    "def H(p):\n",
    "    # Ambiguity\n",
    "    np.seterr(divide='ignore', invalid='ignore')\n",
    "    p = np.array(p)\n",
    "    H = -np.sum(np.where(p != 0, p * np.log(p), 0))\n",
    "\n",
    "    return H"
   ]
  },
  {
   "cell_type": "code",
   "execution_count": 47,
   "id": "covered-alert",
   "metadata": {},
   "outputs": [],
   "source": [
    "p_obs = np.array([0,0,0.999,0.001,.001,.999,0,0])"
   ]
  },
  {
   "cell_type": "code",
   "execution_count": 64,
   "id": "tracked-thing",
   "metadata": {},
   "outputs": [],
   "source": [
    "p = .5\n",
    "q = 1-p\n",
    "\n",
    "A = np.array([[1,1,0,0,0,0,0,0],\n",
    "            [0,0,p,q,0,0,0,0],\n",
    "            [0,0,q,p,0,0,0,0],\n",
    "            [0,0,0,0,q,p,0,0],\n",
    "            [0,0,0,0,p,q,0,0],\n",
    "            [0,0,0,0,0,0,1,0],\n",
    "            [0,0,0,0,0,0,0,1]])"
   ]
  },
  {
   "cell_type": "code",
   "execution_count": 56,
   "id": "cardiac-aurora",
   "metadata": {},
   "outputs": [
    {
     "data": {
      "text/plain": [
       "0.3921564531189282"
      ]
     },
     "execution_count": 56,
     "metadata": {},
     "output_type": "execute_result"
    }
   ],
   "source": [
    "H(A)"
   ]
  },
  {
   "cell_type": "code",
   "execution_count": 68,
   "id": "false-ecology",
   "metadata": {},
   "outputs": [],
   "source": [
    "state = np.array([1,0,0, 0,0,0,0,0])"
   ]
  },
  {
   "cell_type": "code",
   "execution_count": 26,
   "id": "mighty-thread",
   "metadata": {},
   "outputs": [
    {
     "data": {
      "text/plain": [
       "-0.34657359027997264"
      ]
     },
     "execution_count": 26,
     "metadata": {},
     "output_type": "execute_result"
    }
   ],
   "source": [
    "kl(.5, 1)"
   ]
  },
  {
   "cell_type": "code",
   "execution_count": 70,
   "id": "empty-mayor",
   "metadata": {},
   "outputs": [
    {
     "data": {
      "text/plain": [
       "2.772588722239781"
      ]
     },
     "execution_count": 70,
     "metadata": {},
     "output_type": "execute_result"
    }
   ],
   "source": [
    " np.sum(state * H(A))"
   ]
  },
  {
   "cell_type": "code",
   "execution_count": 9,
   "id": "binary-black",
   "metadata": {},
   "outputs": [],
   "source": [
    "def belief_updating(p, hint, r=.98):\n",
    "\n",
    "    if hint > 0:\n",
    "\n",
    "        reliability = [r, 1-r]\n",
    "        reliability = reliability[hint-1]\n",
    "\n",
    "        p = (reliability * p) / ((reliability * p) + (1-reliability) * (1-p))\n",
    "\n",
    "    return p"
   ]
  },
  {
   "cell_type": "code",
   "execution_count": 10,
   "id": "annual-accident",
   "metadata": {},
   "outputs": [
    {
     "name": "stdout",
     "output_type": "stream",
     "text": [
      "p 0.0\n",
      "new belief 0.0\n",
      "new belief 0.0\n",
      "-----------------\n",
      "p 0.1\n",
      "new belief 0.8448275862068965\n",
      "new belief 0.002262443438914029\n",
      "-----------------\n",
      "p 0.2\n",
      "new belief 0.9245283018867924\n",
      "new belief 0.005076142131979699\n",
      "-----------------\n",
      "p 0.30000000000000004\n",
      "new belief 0.9545454545454545\n",
      "new belief 0.008670520231213882\n",
      "-----------------\n",
      "p 0.4\n",
      "new belief 0.9702970297029703\n",
      "new belief 0.01342281879194632\n",
      "-----------------\n",
      "p 0.5\n",
      "new belief 0.98\n",
      "new belief 0.020000000000000018\n",
      "-----------------\n",
      "p 0.6000000000000001\n",
      "new belief 0.9865771812080537\n",
      "new belief 0.02970297029702974\n",
      "-----------------\n",
      "p 0.7000000000000001\n",
      "new belief 0.9913294797687862\n",
      "new belief 0.04545454545454551\n",
      "-----------------\n",
      "p 0.8\n",
      "new belief 0.9949238578680203\n",
      "new belief 0.07547169811320763\n",
      "-----------------\n",
      "p 0.9\n",
      "new belief 0.997737556561086\n",
      "new belief 0.1551724137931036\n",
      "-----------------\n"
     ]
    }
   ],
   "source": [
    "for p in np.arange(1, step=0.1):\n",
    "    print(\"p\", p)\n",
    "\n",
    "    \n",
    "    for h in [1, 2]:\n",
    "        print(\"new belief\", belief_updating(p, h))\n",
    "    print(\"-----------------\")"
   ]
  },
  {
   "cell_type": "code",
   "execution_count": 27,
   "id": "equal-darwin",
   "metadata": {},
   "outputs": [
    {
     "data": {
      "text/plain": [
       "0.2"
      ]
     },
     "execution_count": 27,
     "metadata": {},
     "output_type": "execute_result"
    }
   ],
   "source": [
    "np.array([0,0,1,0]) @ np.array([0,.8,.2,0])"
   ]
  },
  {
   "cell_type": "code",
   "execution_count": 15,
   "id": "unlimited-billion",
   "metadata": {},
   "outputs": [
    {
     "data": {
      "text/plain": [
       "array([[[ 8,  9, 10, 11],\n",
       "        [ 8,  9, 10, 11]],\n",
       "\n",
       "       [[24, 25, 26, 27],\n",
       "        [24, 25, 26, 27]]])"
      ]
     },
     "execution_count": 15,
     "metadata": {},
     "output_type": "execute_result"
    }
   ],
   "source": [
    "np.array([[0,0,1,0],[0,0,1,0]]) @ np.arange(32).reshape(2,4,4)"
   ]
  },
  {
   "cell_type": "code",
   "execution_count": 4,
   "id": "transparent-percentage",
   "metadata": {},
   "outputs": [
    {
     "data": {
      "text/plain": [
       "[<matplotlib.lines.Line2D at 0x7f10b2c06150>]"
      ]
     },
     "execution_count": 4,
     "metadata": {},
     "output_type": "execute_result"
    },
    {
     "data": {
      "image/png": "[encoded data removed]",
      "text/plain": [
       "<Figure size 432x288 with 1 Axes>"
      ]
     },
     "metadata": {
      "needs_background": "light"
     },
     "output_type": "display_data"
    }
   ],
   "source": [
    "li = np.arange(10)\n",
    "plt.plot(li)"
   ]
  },
  {
   "cell_type": "code",
   "execution_count": null,
   "id": "copyrighted-investing",
   "metadata": {},
   "outputs": [],
   "source": []
  }
 ],
 "metadata": {
  "kernelspec": {
   "display_name": "Python 3",
   "language": "python",
   "name": "python3"
  },
  "language_info": {
   "codemirror_mode": {
    "name": "ipython",
    "version": 3
   },
   "file_extension": ".py",
   "mimetype": "text/x-python",
   "name": "python",
   "nbconvert_exporter": "python",
   "pygments_lexer": "ipython3",
   "version": "3.7.5"
  }
 },
 "nbformat": 4,
 "nbformat_minor": 5
}
